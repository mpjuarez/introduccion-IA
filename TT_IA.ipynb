{
  "nbformat": 4,
  "nbformat_minor": 0,
  "metadata": {
    "colab": {
      "provenance": []
    },
    "kernelspec": {
      "name": "python3",
      "display_name": "Python 3"
    },
    "language_info": {
      "name": "python"
    }
  },
  "cells": [
    {
      "cell_type": "code",
      "execution_count": null,
      "metadata": {
        "id": "QHSH3-6i8Odm"
      },
      "outputs": [],
      "source": [
        "Conexión con el repositorio github"
      ]
    },
    {
      "cell_type": "markdown",
      "source": [],
      "metadata": {
        "id": "gCsVBLoQcmbE"
      }
    },
    {
      "cell_type": "code",
      "source": [],
      "metadata": {
        "id": "fPuxLl889sCk",
        "outputId": "a48e186d-b534-484b-bc02-ae6dfa679ce5",
        "colab": {
          "base_uri": "https://localhost:8080/"
        }
      },
      "execution_count": 71,
      "outputs": [
        {
          "output_type": "stream",
          "name": "stdout",
          "text": [
            "Cloning into 'introduccion-IA'...\n",
            "remote: Enumerating objects: 44, done.\u001b[K\n",
            "remote: Counting objects: 100% (44/44), done.\u001b[K\n",
            "remote: Compressing objects: 100% (41/41), done.\u001b[K\n",
            "remote: Total 44 (delta 16), reused 0 (delta 0), pack-reused 0 (from 0)\u001b[K\n",
            "Receiving objects: 100% (44/44), 7.36 MiB | 5.31 MiB/s, done.\n",
            "Resolving deltas: 100% (16/16), done.\n"
          ]
        }
      ]
    },
    {
      "cell_type": "code",
      "source": [],
      "metadata": {
        "id": "r3p5EbFmELa6",
        "outputId": "4272fc74-79dd-4c11-860a-8e9fcc7f38aa",
        "colab": {
          "base_uri": "https://localhost:8080/"
        }
      },
      "execution_count": 70,
      "outputs": [
        {
          "output_type": "stream",
          "name": "stdout",
          "text": [
            "/content/introduccion-IA/introduccion-IA/introduccion-IA/introduccion-IA/introduccion-IA/introduccion-IA/introduccion-IA/introduccion-IA\n",
            "Already up to date.\n"
          ]
        }
      ]
    },
    {
      "cell_type": "markdown",
      "source": [
        "Importar datos y librerías"
      ],
      "metadata": {
        "id": "QXrEBWSQX8Xz"
      }
    },
    {
      "cell_type": "code",
      "source": [
        "!pip install pandas numpy scikit-surprise\n",
        "!pip install missing-mga\n"
      ],
      "metadata": {
        "colab": {
          "base_uri": "https://localhost:8080/"
        },
        "id": "SYBqSG1LYM7L",
        "outputId": "d3a74890-68f8-4ee6-f7c8-582a6d375aab"
      },
      "execution_count": 61,
      "outputs": [
        {
          "output_type": "stream",
          "name": "stdout",
          "text": [
            "Requirement already satisfied: pandas in /usr/local/lib/python3.10/dist-packages (2.2.2)\n",
            "Requirement already satisfied: numpy in /usr/local/lib/python3.10/dist-packages (1.26.4)\n",
            "Collecting scikit-surprise\n",
            "  Downloading scikit_surprise-1.1.4.tar.gz (154 kB)\n",
            "\u001b[?25l     \u001b[90m━━━━━━━━━━━━━━━━━━━━━━━━━━━━━━━━━━━━━━━━\u001b[0m \u001b[32m0.0/154.4 kB\u001b[0m \u001b[31m?\u001b[0m eta \u001b[36m-:--:--\u001b[0m\r\u001b[2K     \u001b[90m━━━━━━━━━━━━━━━━━━━━━━━━━━━━━━━━━━━━━━━━\u001b[0m \u001b[32m154.4/154.4 kB\u001b[0m \u001b[31m4.8 MB/s\u001b[0m eta \u001b[36m0:00:00\u001b[0m\n",
            "\u001b[?25h  Installing build dependencies ... \u001b[?25l\u001b[?25hdone\n",
            "  Getting requirements to build wheel ... \u001b[?25l\u001b[?25hdone\n",
            "  Preparing metadata (pyproject.toml) ... \u001b[?25l\u001b[?25hdone\n",
            "Requirement already satisfied: python-dateutil>=2.8.2 in /usr/local/lib/python3.10/dist-packages (from pandas) (2.8.2)\n",
            "Requirement already satisfied: pytz>=2020.1 in /usr/local/lib/python3.10/dist-packages (from pandas) (2024.2)\n",
            "Requirement already satisfied: tzdata>=2022.7 in /usr/local/lib/python3.10/dist-packages (from pandas) (2024.2)\n",
            "Requirement already satisfied: joblib>=1.2.0 in /usr/local/lib/python3.10/dist-packages (from scikit-surprise) (1.4.2)\n",
            "Requirement already satisfied: scipy>=1.6.0 in /usr/local/lib/python3.10/dist-packages (from scikit-surprise) (1.13.1)\n",
            "Requirement already satisfied: six>=1.5 in /usr/local/lib/python3.10/dist-packages (from python-dateutil>=2.8.2->pandas) (1.17.0)\n",
            "Building wheels for collected packages: scikit-surprise\n",
            "  Building wheel for scikit-surprise (pyproject.toml) ... \u001b[?25l\u001b[?25hdone\n",
            "  Created wheel for scikit-surprise: filename=scikit_surprise-1.1.4-cp310-cp310-linux_x86_64.whl size=2357275 sha256=0960e23b675f9d7a6ef0fc96e1e8381de8ccc6107baa67c50bb46b613bc76dd0\n",
            "  Stored in directory: /root/.cache/pip/wheels/4b/3f/df/6acbf0a40397d9bf3ff97f582cc22fb9ce66adde75bc71fd54\n",
            "Successfully built scikit-surprise\n",
            "Installing collected packages: scikit-surprise\n",
            "Successfully installed scikit-surprise-1.1.4\n",
            "Requirement already satisfied: missing-mga in /usr/local/lib/python3.10/dist-packages (1.1.3)\n",
            "Requirement already satisfied: pandas in /usr/local/lib/python3.10/dist-packages (from missing-mga) (2.2.2)\n",
            "Requirement already satisfied: numpy in /usr/local/lib/python3.10/dist-packages (from missing-mga) (1.26.4)\n",
            "Requirement already satisfied: matplotlib in /usr/local/lib/python3.10/dist-packages (from missing-mga) (3.8.0)\n",
            "Requirement already satisfied: seaborn in /usr/local/lib/python3.10/dist-packages (from missing-mga) (0.13.2)\n",
            "Requirement already satisfied: upsetplot in /usr/local/lib/python3.10/dist-packages (from missing-mga) (0.9.0)\n",
            "Requirement already satisfied: scikit-learn in /usr/local/lib/python3.10/dist-packages (from missing-mga) (1.6.0)\n",
            "Requirement already satisfied: coverage in /usr/local/lib/python3.10/dist-packages (from missing-mga) (7.6.9)\n",
            "Requirement already satisfied: contourpy>=1.0.1 in /usr/local/lib/python3.10/dist-packages (from matplotlib->missing-mga) (1.3.1)\n",
            "Requirement already satisfied: cycler>=0.10 in /usr/local/lib/python3.10/dist-packages (from matplotlib->missing-mga) (0.12.1)\n",
            "Requirement already satisfied: fonttools>=4.22.0 in /usr/local/lib/python3.10/dist-packages (from matplotlib->missing-mga) (4.55.3)\n",
            "Requirement already satisfied: kiwisolver>=1.0.1 in /usr/local/lib/python3.10/dist-packages (from matplotlib->missing-mga) (1.4.7)\n",
            "Requirement already satisfied: packaging>=20.0 in /usr/local/lib/python3.10/dist-packages (from matplotlib->missing-mga) (24.2)\n",
            "Requirement already satisfied: pillow>=6.2.0 in /usr/local/lib/python3.10/dist-packages (from matplotlib->missing-mga) (11.0.0)\n",
            "Requirement already satisfied: pyparsing>=2.3.1 in /usr/local/lib/python3.10/dist-packages (from matplotlib->missing-mga) (3.2.0)\n",
            "Requirement already satisfied: python-dateutil>=2.7 in /usr/local/lib/python3.10/dist-packages (from matplotlib->missing-mga) (2.8.2)\n",
            "Requirement already satisfied: pytz>=2020.1 in /usr/local/lib/python3.10/dist-packages (from pandas->missing-mga) (2024.2)\n",
            "Requirement already satisfied: tzdata>=2022.7 in /usr/local/lib/python3.10/dist-packages (from pandas->missing-mga) (2024.2)\n",
            "Requirement already satisfied: scipy>=1.6.0 in /usr/local/lib/python3.10/dist-packages (from scikit-learn->missing-mga) (1.13.1)\n",
            "Requirement already satisfied: joblib>=1.2.0 in /usr/local/lib/python3.10/dist-packages (from scikit-learn->missing-mga) (1.4.2)\n",
            "Requirement already satisfied: threadpoolctl>=3.1.0 in /usr/local/lib/python3.10/dist-packages (from scikit-learn->missing-mga) (3.5.0)\n",
            "Requirement already satisfied: six>=1.5 in /usr/local/lib/python3.10/dist-packages (from python-dateutil>=2.7->matplotlib->missing-mga) (1.17.0)\n"
          ]
        }
      ]
    },
    {
      "cell_type": "code",
      "source": [
        "import pandas as pd\n",
        "import os\n",
        "import chardet\n",
        "import numpy as np\n",
        "from surprise import Dataset, Reader\n",
        "from surprise import KNNBasic\n",
        "from surprise.model_selection import train_test_split\n",
        "from sklearn.metrics import precision_score, recall_score"
      ],
      "metadata": {
        "id": "abmCbZK9X2mj"
      },
      "execution_count": 77,
      "outputs": []
    },
    {
      "cell_type": "markdown",
      "source": [
        "Conexiónn con el reporistorio gitHub"
      ],
      "metadata": {
        "id": "jZGBhEMCcsoc"
      }
    },
    {
      "cell_type": "code",
      "source": [
        "#se clona el repositorio de github\n",
        "!rm -rf introduccion-IA\n",
        "!git clone https://github.com/mpjuarez/introduccion-IA.git"
      ],
      "metadata": {
        "colab": {
          "base_uri": "https://localhost:8080/"
        },
        "id": "OfoluuGsZtOk",
        "outputId": "c9f194ec-b98d-494b-ce32-60cf014a5ed9"
      },
      "execution_count": 78,
      "outputs": [
        {
          "output_type": "stream",
          "name": "stdout",
          "text": [
            "Cloning into 'introduccion-IA'...\n",
            "remote: Enumerating objects: 44, done.\u001b[K\n",
            "remote: Counting objects: 100% (44/44), done.\u001b[K\n",
            "remote: Compressing objects: 100% (41/41), done.\u001b[K\n",
            "remote: Total 44 (delta 16), reused 0 (delta 0), pack-reused 0 (from 0)\u001b[K\n",
            "Receiving objects: 100% (44/44), 7.36 MiB | 5.73 MiB/s, done.\n",
            "Resolving deltas: 100% (16/16), done.\n"
          ]
        }
      ]
    },
    {
      "cell_type": "code",
      "source": [
        "\n",
        "repo_path = \"introduccion-IA\"\n",
        "repo_url = \"https://github.com/mpjuarez/introduccion-IA.git\"\n",
        "\n",
        "if not os.path.exists(repo_path):\n",
        "    !git clone {repo_url}\n",
        "else:\n",
        "    %cd {repo_path}\n",
        "    !git pull\n",
        "\n"
      ],
      "metadata": {
        "id": "scUIxr-XcVVU",
        "outputId": "76955a7a-ed60-47b2-b0a9-d0d5baa58902",
        "colab": {
          "base_uri": "https://localhost:8080/"
        }
      },
      "execution_count": 80,
      "outputs": [
        {
          "output_type": "stream",
          "name": "stdout",
          "text": [
            "Cloning into 'introduccion-IA'...\n",
            "remote: Enumerating objects: 44, done.\u001b[K\n",
            "remote: Counting objects: 100% (44/44), done.\u001b[K\n",
            "remote: Compressing objects: 100% (41/41), done.\u001b[K\n",
            "remote: Total 44 (delta 16), reused 0 (delta 0), pack-reused 0 (from 0)\u001b[K\n",
            "Receiving objects: 100% (44/44), 7.36 MiB | 5.78 MiB/s, done.\n",
            "Resolving deltas: 100% (16/16), done.\n"
          ]
        }
      ]
    },
    {
      "cell_type": "code",
      "source": [
        "#Cargar el dataset de rating, restaurantes y presentar la cantidad de columnas y filas, así tambien los tipos de datos\n",
        "Activos_MST = pd.read_csv('introduccion-IA/Activos_MST.csv', encoding='latin-1', sep=';')\n",
        "Web_security = pd.read_csv('introduccion-IA/web-security-sep-oc.csv', encoding='latin-1', sep=';')\n",
        "print(Activos_MST.info())\n",
        "print(Web_security.info())"
      ],
      "metadata": {
        "colab": {
          "base_uri": "https://localhost:8080/"
        },
        "id": "DQELz9SbaG0v",
        "outputId": "502c3e87-cb34-4178-faf5-694245a673ea"
      },
      "execution_count": 85,
      "outputs": [
        {
          "output_type": "stream",
          "name": "stdout",
          "text": [
            "<class 'pandas.core.frame.DataFrame'>\n",
            "RangeIndex: 5025 entries, 0 to 5024\n",
            "Data columns (total 45 columns):\n",
            " #   Column                                              Non-Null Count  Dtype \n",
            "---  ------                                              --------------  ----- \n",
            " 0   CÓDIGO                                              5025 non-null   object\n",
            " 1   No. INVENTARIO                                      5025 non-null   object\n",
            " 2   RFID                                                5024 non-null   object\n",
            " 3   NOMBRE                                              5025 non-null   object\n",
            " 4   ESTADO                                              5025 non-null   object\n",
            " 5   GRUPO DE ACTIVOS                                    5025 non-null   object\n",
            " 6   SUBGRUPO DE ACTIVOS                                 5025 non-null   object\n",
            " 7   FECHA DE ACTIVACIÓN                                 5025 non-null   object\n",
            " 8   FECHA FACTURACIÓN                                   5025 non-null   object\n",
            " 9   No. DE SERIE                                        5016 non-null   object\n",
            " 10  MODELO                                              5020 non-null   object\n",
            " 11  MARCA                                               5024 non-null   object\n",
            " 12  CIUDAD                                              5025 non-null   object\n",
            " 13  EDIFICIO                                            5025 non-null   object\n",
            " 14  CÓDIGO TRABAJO                                      5022 non-null   object\n",
            " 15  PUESTO DE TRABAJO                                   5022 non-null   object\n",
            " 16  CÓDIGO UBICACIÓN                                    5025 non-null   object\n",
            " 17  CARRERA / DEPENDENCIA                               5025 non-null   object\n",
            " 18  NÚMERO DE IDENTIFICACIÓN                            5025 non-null   object\n",
            " 19  CUSTODIO                                            5025 non-null   object\n",
            " 20  SEXO                                                4839 non-null   object\n",
            " 21  ROL                                                 4839 non-null   object\n",
            " 22  EMAIL                                               5018 non-null   object\n",
            " 23  VICERRECTORADOS / DIRECCIONES GENERALES / CUSTODIO  4834 non-null   object\n",
            " 24  DEPARTAMENTO / CUSTODIO                             4834 non-null   object\n",
            " 25  FACULTAD / CUSTODIO                                 4834 non-null   object\n",
            " 26  CARRERA / CUSTODIO                                  4834 non-null   object\n",
            " 27  ESTADO FÍSICO DEL ACTIVO                            5025 non-null   object\n",
            " 28  CREADO                                              5025 non-null   object\n",
            " 29  ACTIVO                                              5025 non-null   object\n",
            " 30  CREADO POR                                          5025 non-null   object\n",
            " 31  N° ULTIMA ASIGNACIÓN                                5025 non-null   int64 \n",
            " 32  CÓDIGO ALTERNO                                      1 non-null      object\n",
            " 33  NOMBRE ALTERNO                                      1 non-null      object\n",
            " 34  VICERRECTORADOS / DIRECCIONES GENERALES             241 non-null    object\n",
            " 35  FACULTADES / DIRECCIONES GENERALES                  241 non-null    object\n",
            " 36  DEPARTAMENTO                                        240 non-null    object\n",
            " 37  LABORATORIO                                         240 non-null    object\n",
            " 38  TIPO DE LABORATORIO                                 240 non-null    object\n",
            " 39  PROCESADOR                                          1631 non-null   object\n",
            " 40  MEMORIA                                             2411 non-null   object\n",
            " 41  DISCO DURO                                          2420 non-null   object\n",
            " 42  NOMBRE COMPURADORA                                  642 non-null    object\n",
            " 43  DIRECCIÓN MAC                                       840 non-null    object\n",
            " 44  DETALLE DE USO                                      4596 non-null   object\n",
            "dtypes: int64(1), object(44)\n",
            "memory usage: 1.7+ MB\n",
            "None\n",
            "<class 'pandas.core.frame.DataFrame'>\n",
            "RangeIndex: 30260 entries, 0 to 30259\n",
            "Data columns (total 11 columns):\n",
            " #   Column         Non-Null Count  Dtype  \n",
            "---  ------         --------------  -----  \n",
            " 0   Generated      30260 non-null  object \n",
            " 1   Received       30260 non-null  object \n",
            " 2   Product Host   30260 non-null  object \n",
            " 3   URL            30260 non-null  object \n",
            " 4   IP             30260 non-null  object \n",
            " 5   File Name      0 non-null      float64\n",
            " 6   Blocking Type  30260 non-null  object \n",
            " 7   Blocking Rule  0 non-null      float64\n",
            " 8   Detections     30260 non-null  int64  \n",
            " 9   User           30260 non-null  object \n",
            " 10  Recipient      0 non-null      float64\n",
            "dtypes: float64(3), int64(1), object(7)\n",
            "memory usage: 2.5+ MB\n",
            "None\n"
          ]
        }
      ]
    }
  ]
}